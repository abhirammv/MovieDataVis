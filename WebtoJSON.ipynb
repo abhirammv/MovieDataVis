{
 "cells": [
  {
   "cell_type": "code",
   "execution_count": 3,
   "metadata": {
    "collapsed": true
   },
   "outputs": [],
   "source": [
    "from bs4 import BeautifulSoup\n",
    "import urllib\n",
    "import re \n",
    "import numpy as np"
   ]
  },
  {
   "cell_type": "code",
   "execution_count": 4,
   "metadata": {
    "collapsed": true
   },
   "outputs": [],
   "source": [
    "page = urllib.request.urlopen('http://www.imdb.com/list/ls036115103/').read()"
   ]
  },
  {
   "cell_type": "code",
   "execution_count": 5,
   "metadata": {},
   "outputs": [
    {
     "name": "stderr",
     "output_type": "stream",
     "text": [
      "/Library/Frameworks/Python.framework/Versions/3.4/lib/python3.4/site-packages/bs4/__init__.py:181: UserWarning: No parser was explicitly specified, so I'm using the best available HTML parser for this system (\"html5lib\"). This usually isn't a problem, but if you run this code on another system, or in a different virtual environment, it may use a different parser and behave differently.\n",
      "\n",
      "The code that caused this warning is on line 170 of the file /Library/Frameworks/Python.framework/Versions/3.4/lib/python3.4/runpy.py. To get rid of this warning, change code that looks like this:\n",
      "\n",
      " BeautifulSoup(YOUR_MARKUP})\n",
      "\n",
      "to this:\n",
      "\n",
      " BeautifulSoup(YOUR_MARKUP, \"html5lib\")\n",
      "\n",
      "  markup_type=markup_type))\n"
     ]
    },
    {
     "name": "stdout",
     "output_type": "stream",
     "text": [
      "<class 'bs4.BeautifulSoup'>\n"
     ]
    }
   ],
   "source": [
    "soup = BeautifulSoup(page)\n",
    "print(type(soup))"
   ]
  },
  {
   "cell_type": "code",
   "execution_count": 6,
   "metadata": {
    "collapsed": true
   },
   "outputs": [],
   "source": [
    "characters_ls_even = soup.find_all(\"div\", class_=\"list_item even\")\n",
    "characters_ls_odd = soup.find_all(\"div\", class_=\"list_item odd\")\n",
    "chars_odd_dict = {}\n",
    "chars_even_dict = {}"
   ]
  },
  {
   "cell_type": "code",
   "execution_count": 7,
   "metadata": {
    "collapsed": true
   },
   "outputs": [],
   "source": [
    "#print(characters_ls_even[0])\n",
    "#Class - number, secondary, description"
   ]
  },
  {
   "cell_type": "code",
   "execution_count": 8,
   "metadata": {},
   "outputs": [
    {
     "data": {
      "text/plain": [
       "<div class=\"list_item odd\">\n",
       "<div class=\"image\"> <a href=\"/character/ch0556868/\"><div class=\"hover-over-image zero-z-index\" data-const=\"ch0556868\">\n",
       "<img alt=\"Image of Tony Stark\" class=\"zero-z-index\" height=\"209\" src=\"https://images-na.ssl-images-amazon.com/images/M/MV5BZmE1YjFkNGQtMjYyNC00NmFjLTkyNjQtNDMxYzc5ZTQ4MGZhXkEyXkFqcGdeQXVyNjczMDY1MzM@._V1._SY209_CR87,0,140,209_.jpg\" width=\"140\"/>\n",
       "</div>\n",
       "</a>\n",
       "</div>\n",
       "<div class=\"number\">1.</div>\n",
       "<div class=\"info\">\n",
       "<b><a href=\"/character/ch0556868/\">Tony Stark</a></b>\n",
       "<div class=\"secondary\"><a href=\"/title/tt0371746/?ref_=rlm\">Iron Man</a> <span class=\"year_type\">(2008)</span>, <a href=\"/name/nm0000375/?ref_=rlm\">Robert Downey Jr.</a></div>\n",
       "</div>\n",
       "<div class=\"description\"><span class=\"bqstart\">“ </span>played by Robert Downey Jr.<br/><br/>* IRON MAN &lt;77:15&gt;<br/>* THE INCREDIBLE HULK &lt;:30&gt;<br/>* IRON MAN 2 &lt;61:15&gt;<br/>* THE AVENGERS &lt;32:15&gt;<br/>* IRON MAN 3 &lt;62:15&gt;<br/>* AVENGERS: AGE OF ULTRON &lt;27:15&gt;<br/>* CAPTAIN AMERICA: CIVIL WAR &lt;37:15&gt;<br/>* SPIDER-MAN: HOMECOMING &lt;8&gt;<br/><br/>306 minutes<span class=\"bqend\"> ”</span> - ninewheels0</div>\n",
       "<div class=\"clear\"> </div>\n",
       "</div>"
      ]
     },
     "execution_count": 8,
     "metadata": {},
     "output_type": "execute_result"
    }
   ],
   "source": [
    "characters_ls_odd[0]"
   ]
  },
  {
   "cell_type": "code",
   "execution_count": 9,
   "metadata": {
    "collapsed": true
   },
   "outputs": [],
   "source": [
    "for character in characters_ls_odd:\n",
    "    chars_odd_dict[character.b.get_text()] = character.find(\"div\", {\"class\": \"description\"}).get_text()\n",
    "for character in characters_ls_even:\n",
    "    chars_even_dict[character.b.get_text()] = character.find(\"div\", {\"class\": \"description\"}).get_text()"
   ]
  },
  {
   "cell_type": "code",
   "execution_count": 10,
   "metadata": {},
   "outputs": [
    {
     "data": {
      "text/plain": [
       "'“\\xa0played by Chris Hemsworth* THOR <43:15>* THE AVENGERS <18>* THOR: THE DARK WORLD <35>* AVENGERS: AGE OF ULTRON <13:15>* DOCTOR STRANGE <:45>* THOR: RAGNAROK <57>167:15 minutes\\xa0” - ninewheels0'"
      ]
     },
     "execution_count": 10,
     "metadata": {},
     "output_type": "execute_result"
    }
   ],
   "source": [
    "characters_ls_odd[1].find(\"div\", {\"class\": \"description\"}).get_text()"
   ]
  },
  {
   "cell_type": "code",
   "execution_count": null,
   "metadata": {
    "collapsed": true
   },
   "outputs": [],
   "source": []
  },
  {
   "cell_type": "code",
   "execution_count": 11,
   "metadata": {
    "collapsed": true
   },
   "outputs": [],
   "source": [
    "#Implementing a regex filter to filter out \\xa0\n",
    "#txt = chars_even_dict['Agent Phil Coulson']\n",
    "def get_info(txt):\n",
    "    txt = re.subn(pattern=r'\\xa0', repl='', string=txt)[0]\n",
    "    txt = re.subn(pattern=r'ninewheels0', repl='', string=txt)[0]\n",
    "    txt = re.subn(pattern=r' - ', repl='', string=txt)[0]\n",
    "    txt = re.subn(pattern=r'[“”]', repl='', string=txt)[0] #“\n",
    "    txt = re.subn(pattern=r'\\d*:?\\d*? minutes', repl='', string=txt)[0]\n",
    "    \n",
    "    try:\n",
    "        txt = txt.split('*')\n",
    "        temp = {}\n",
    "        temp['actor'] = txt[0].split('played by ')[1]\n",
    "        for i in range(1, len(txt)):\n",
    "            movie_and_duration = txt[i].replace(' ', '', 1).replace('>', '').split(' <')\n",
    "            temp['{0}'.format(movie_and_duration[0].replace('', ''))] = movie_and_duration[1]\n",
    "        return temp\n",
    "    except:\n",
    "        return txt"
   ]
  },
  {
   "cell_type": "markdown",
   "metadata": {
    "collapsed": true
   },
   "source": [
    "Dictionary of the form:\n",
    "    {character_Name: {actor: actor_name, \n",
    "                      movie_1: time_movie_1, \n",
    "                      movie_2: time_movie_2}\n",
    "    \n",
    "    }"
   ]
  },
  {
   "cell_type": "code",
   "execution_count": 12,
   "metadata": {
    "collapsed": true
   },
   "outputs": [],
   "source": [
    "tp = dict(chars_odd_dict)"
   ]
  },
  {
   "cell_type": "code",
   "execution_count": 13,
   "metadata": {
    "collapsed": true
   },
   "outputs": [],
   "source": [
    "for ch in tp.keys():\n",
    "    tp[ch] = get_info(tp[ch])"
   ]
  },
  {
   "cell_type": "code",
   "execution_count": 14,
   "metadata": {
    "collapsed": true
   },
   "outputs": [],
   "source": [
    "for character in chars_odd_dict:\n",
    "    chars_odd_dict[character] = get_info(chars_odd_dict[character])\n",
    "\n",
    "for character in chars_even_dict:\n",
    "    chars_even_dict[character] = get_info(chars_even_dict[character])"
   ]
  },
  {
   "cell_type": "code",
   "execution_count": 2,
   "metadata": {},
   "outputs": [],
   "source": [
    "def merge(dict1,*dicts):\n",
    "    for dict2 in dicts:\n",
    "        dict1.update(dict2)\n",
    "    return dict1"
   ]
  },
  {
   "cell_type": "code",
   "execution_count": 15,
   "metadata": {},
   "outputs": [
    {
     "data": {
      "text/plain": [
       "{'Agent Phil Coulson': {'IRON MAN': '3:45',\n",
       "  'IRON MAN 2': '2',\n",
       "  'THE AVENGERS': '9',\n",
       "  'THOR': '4',\n",
       "  'actor': 'Clark Gregg'},\n",
       " 'Aldrich Killian': {'IRON MAN 3': '12', 'actor': 'Guy Pearce'},\n",
       " 'Alexander Pierce': {'CAPTAIN AMERICA: THE WINTER SOLDIER': '12:45',\n",
       "  'actor': 'Robert Redford'},\n",
       " 'Algrim': {'THOR: THE DARK WORLD': '6:15',\n",
       "  'actor': 'Adewale Akinnuoye-Agbaje'},\n",
       " 'Ancient One': {'DOCTOR STRANGE': '17:15', 'actor': 'Tilda Swinton'},\n",
       " 'Arnim Zola': {'CAPTAIN AMERICA: THE FIRST AVENGER': '8:15',\n",
       "  'CAPTAIN AMERICA: THE WINTER SOLDIER': '2:15',\n",
       "  'actor': 'Toby Jones'},\n",
       " 'Betty Ross': {'THE INCREDIBLE HULK': '27', 'actor': 'Liv Tyler'},\n",
       " 'Bruce Banner': {'AVENGERS: AGE OF ULTRON': '20',\n",
       "  'IRON MAN 3 (cameo)': ':45',\n",
       "  'THE AVENGERS': '22:15',\n",
       "  'THE INCREDIBLE HULK': '51:45currently played by Mark Ruffalo',\n",
       "  'THOR: RAGNAROK': '18',\n",
       "  'actor': 'Edward Norton'},\n",
       " 'Bucky Barnes': {'ANT-MAN (cameo)': ':15',\n",
       "  'CAPTAIN AMERICA: CIVIL WAR': '22',\n",
       "  'CAPTAIN AMERICA: THE FIRST AVENGER': '8',\n",
       "  'CAPTAIN AMERICA: THE WINTER SOLDIER': '13:15',\n",
       "  'actor': 'Sebastian Stan'},\n",
       " 'Cassandra Lang': {'ANT-MAN': '4:30', 'actor': 'Abby Ryder Forston'},\n",
       " 'Chester Phillips': {'CAPTAIN AMERICA: THE FIRST AVENGER': '9:15',\n",
       "  'actor': 'Tommy Lee Jones'},\n",
       " 'Christine Everhart': {'IRON MAN': '3:45',\n",
       "  'IRON MAN 2': '1:30',\n",
       "  'actor': 'Leslie Bibb'},\n",
       " 'Christine Palmer': {'DOCTOR STRANGE': '12:45', 'actor': 'Rachel McAdams'},\n",
       " 'Crossbones': {'CAPTAIN AMERICA: CIVIL WAR': '2:15',\n",
       "  'CAPTAIN AMERICA: THE WINTER SOLDIER': '6:15',\n",
       "  'actor': 'Frank Grillo'},\n",
       " 'Darren Cross': {'ANT-MAN': '14:30', 'actor': 'Corey Stoll'},\n",
       " 'Dr. Helen Cho': {'AVENGERS: AGE OF ULTRON': '3:15', 'actor': 'Claudia Kim'},\n",
       " 'Dr. Stephen Strange': {'DOCTOR STRANGE': '73:30',\n",
       "  'THOR: RAGNAROK': '2:45',\n",
       "  'actor': 'Benedict Cumberbatch'},\n",
       " 'Drax the Destroyer': {'GUARDIANS OF THE GALAXY': '18',\n",
       "  'GUARDIANS OF THE GALAXY VOL. 2': '16:30',\n",
       "  'actor': 'Dave Bautista'},\n",
       " 'Erik Selvig': {'AVENGERS: AGE OF ULTRON': ':45',\n",
       "  'THE AVENGERS': '3',\n",
       "  'THOR': '13:45',\n",
       "  'THOR: THE DARK WORLD': '6:30',\n",
       "  'actor': 'Stellan Skarsgård'},\n",
       " 'Gamora': {'GUARDIANS OF THE GALAXY': '31',\n",
       "  'GUARDIANS OF THE GALAXY VOL. 2': '24',\n",
       "  'actor': 'Zoe Saldana'},\n",
       " \"Gen. Thaddeus 'Thunderbolt' Ross\": {'CAPTAIN AMERICA: CIVIL WAR': '2:45',\n",
       "  'THE INCREDIBLE HULK': '15',\n",
       "  'actor': 'William Hurt'},\n",
       " 'Grandmaster': {'THOR: RAGNAROK': '6', 'actor': 'Jeff Goldblum'},\n",
       " 'Groot': {'GUARDIANS OF THE GALAXY': '15:30',\n",
       "  'GUARDIANS OF THE GALAXY VOL. 2': '14',\n",
       "  'actor': 'Vin Diesel (voice + mo-cap)'},\n",
       " 'Happy Hogan': {'IRON MAN': '1:15',\n",
       "  'IRON MAN 2': '4:15',\n",
       "  'IRON MAN 3': '6:15',\n",
       "  'SPIDER-MAN: HOMECOMING': '6',\n",
       "  'actor': 'Jon Favreau'},\n",
       " 'Ho Yinsen': {'IRON MAN': '10:45',\n",
       "  'IRON MAN 3': ':15',\n",
       "  'actor': 'Shaun Toub'},\n",
       " 'Hogun': {'THOR': '6:30',\n",
       "  'THOR: RAGNAROK': ':45',\n",
       "  'THOR: THE DARK WORLD': '1',\n",
       "  'actor': 'Tadanobu Asano'},\n",
       " 'Hope van Dyne': {'ANT-MAN': '15:45', 'actor': 'Evangeline Lilly'},\n",
       " 'Jane Foster': {'THOR': '21',\n",
       "  'THOR: THE DARK WORLD': '25',\n",
       "  'actor': 'Natalie Portman'},\n",
       " 'Johann Schmidt': {'CAPTAIN AMERICA: THE FIRST AVENGER': '15:30',\n",
       "  'actor': 'Hugo Weaving'},\n",
       " 'King Laufey': {'THOR': '3:30', 'actor': 'Colm Feore'},\n",
       " 'Korg': {'THOR: RAGNAROK': '3:45', 'actor': 'Taika Waititi (voice + mo-cap)'},\n",
       " 'Kraglin': {'GUARDIANS OF THE GALAXY': '1:45',\n",
       "  'GUARDIANS OF THE GALAXY VOL. 2': '4:45',\n",
       "  'actor': 'Sean Gunn'},\n",
       " 'Liz Allan': {'SPIDER-MAN: HOMECOMING': '9:45', 'actor': 'Laura Harrier'},\n",
       " 'Luis': ['played Michael Peña', ' ANT-MAN <7>'],\n",
       " 'Maya Hansen': {'IRON MAN 3': '8:45', 'actor': 'Rebecca Hall'},\n",
       " 'Obadiah Stane': {'IRON MAN': '22', 'actor': 'Jeff Bridges'},\n",
       " 'Peggy Carter': ['played Hayley Atwell',\n",
       "  ' CAPTAIN AMERICA: THE FIRST AVENGER <17:15>',\n",
       "  ' CAPTAIN AMERICA: THE WINTER SOLDIER <2:15>',\n",
       "  ' AVENGERS: AGE OF ULTRON <0:15>',\n",
       "  ' ANT-MAN <0:45>'],\n",
       " 'Pepper Potts': {'IRON MAN': '23:15',\n",
       "  'IRON MAN 2': '17:30',\n",
       "  'IRON MAN 3': '18',\n",
       "  'SPIDER-MAN: HOMECOMING': ':45',\n",
       "  'THE AVENGERS': '4:30',\n",
       "  'actor': 'Gwyneth Paltrow'},\n",
       " 'Peter Parker': {'CAPTAIN AMERICA: CIVIL WAR': '8:30',\n",
       "  'SPIDER-MAN: HOMECOMING': '76:15',\n",
       "  'actor': 'Tom Holland'},\n",
       " 'Pietro Maximoff': {'AVENGERS: AGE OF ULTRON': '10',\n",
       "  'CAPTAIN AMERICA: THE WINTER SOLDIER (cameo)': ':15',\n",
       "  'actor': 'Aaron Taylor-Johnson'},\n",
       " 'Samuel Sterns': {'THE INCREDIBLE HULK': '7:30', 'actor': 'Tim Blake Nelson'},\n",
       " 'Savin': {'IRON MAN 3': '6', 'actor': 'James Badge Dale'},\n",
       " 'Sharon Carter': {'CAPTAIN AMERICA: CIVIL WAR': '5',\n",
       "  'CAPTAIN AMERICA: THE WINTER SOLDIER': '2:30',\n",
       "  'actor': 'Emily VanCamp'},\n",
       " 'Steve Rogers': {'ANT-MAN (cameo)': ':30',\n",
       "  'AVENGERS: AGE OF ULTRON': '21:45',\n",
       "  'CAPTAIN AMERICA: CIVIL WAR': '38:15',\n",
       "  'CAPTAIN AMERICA: THE FIRST AVENGER': '56:30',\n",
       "  'CAPTAIN AMERICA: THE WINTER SOLDIER': '59',\n",
       "  'SPIDER-MAN: HOMECOMING': '1',\n",
       "  'THE AVENGERS': '28:15',\n",
       "  'actor': 'Chris Evans'},\n",
       " \"T'Challa\": {'CAPTAIN AMERICA: CIVIL WAR': '11:30',\n",
       "  'actor': 'Chadwick Boseman'},\n",
       " 'The Collector': {'GUARDIANS OF THE GALAXY': '2:30',\n",
       "  'THOR: THE DARK WORLD (cameo)': '1:15',\n",
       "  'actor': 'Benicio del Toro'},\n",
       " 'This character is no longer available': {'SPIDER-MAN: HOMECOMING': '4:30',\n",
       "  'actor': 'Bokeem Woodbine'},\n",
       " 'Ultron': {'AVENGERS: AGE OF ULTRON': '16:45', 'actor': 'James Spader'},\n",
       " 'Vision': {'AVENGERS: AGE OF ULTRON': '6:15',\n",
       "  'CAPTAIN AMERICA: CIVIL WAR': '7:15',\n",
       "  'actor': 'Paul Bettany'},\n",
       " 'Wanda Maximoff': {'AVENGERS: AGE OF ULTRON': '12',\n",
       "  'CAPTAIN AMERICA: CIVIL WAR': '10:45',\n",
       "  'CAPTAIN AMERICA: THE WINTER SOLDIER (cameo)': ':15',\n",
       "  'actor': 'Elizabeth Olsen'}}"
      ]
     },
     "execution_count": 15,
     "metadata": {},
     "output_type": "execute_result"
    }
   ],
   "source": []
  },
  {
   "cell_type": "code",
   "execution_count": null,
   "metadata": {
    "collapsed": true
   },
   "outputs": [],
   "source": []
  }
 ],
 "metadata": {
  "kernelspec": {
   "display_name": "Python 3",
   "language": "python",
   "name": "python3"
  },
  "language_info": {
   "codemirror_mode": {
    "name": "ipython",
    "version": 3
   },
   "file_extension": ".py",
   "mimetype": "text/x-python",
   "name": "python",
   "nbconvert_exporter": "python",
   "pygments_lexer": "ipython3",
   "version": "3.4.4"
  }
 },
 "nbformat": 4,
 "nbformat_minor": 2
}
