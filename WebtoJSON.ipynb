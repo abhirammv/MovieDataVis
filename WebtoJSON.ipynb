{
 "cells": [
  {
   "cell_type": "code",
   "execution_count": 61,
   "metadata": {
    "collapsed": true
   },
   "outputs": [],
   "source": [
    "from bs4 import BeautifulSoup\n",
    "import urllib\n",
    "import re \n",
    "import numpy as np\n",
    "import json\n",
    "from collections import OrderedDict"
   ]
  },
  {
   "cell_type": "code",
   "execution_count": 62,
   "metadata": {
    "collapsed": true
   },
   "outputs": [],
   "source": [
    "page = urllib.request.urlopen('http://www.imdb.com/list/ls036115103/').read()"
   ]
  },
  {
   "cell_type": "code",
   "execution_count": 63,
   "metadata": {},
   "outputs": [
    {
     "name": "stderr",
     "output_type": "stream",
     "text": [
      "/Library/Frameworks/Python.framework/Versions/3.4/lib/python3.4/site-packages/bs4/__init__.py:181: UserWarning: No parser was explicitly specified, so I'm using the best available HTML parser for this system (\"html5lib\"). This usually isn't a problem, but if you run this code on another system, or in a different virtual environment, it may use a different parser and behave differently.\n",
      "\n",
      "The code that caused this warning is on line 170 of the file /Library/Frameworks/Python.framework/Versions/3.4/lib/python3.4/runpy.py. To get rid of this warning, change code that looks like this:\n",
      "\n",
      " BeautifulSoup(YOUR_MARKUP})\n",
      "\n",
      "to this:\n",
      "\n",
      " BeautifulSoup(YOUR_MARKUP, \"html5lib\")\n",
      "\n",
      "  markup_type=markup_type))\n"
     ]
    },
    {
     "name": "stdout",
     "output_type": "stream",
     "text": [
      "<class 'bs4.BeautifulSoup'>\n"
     ]
    }
   ],
   "source": [
    "soup = BeautifulSoup(page)\n",
    "print(type(soup))"
   ]
  },
  {
   "cell_type": "code",
   "execution_count": 64,
   "metadata": {
    "collapsed": true
   },
   "outputs": [],
   "source": [
    "characters_ls_even = soup.find_all(\"div\", class_=\"list_item even\")\n",
    "characters_ls_odd = soup.find_all(\"div\", class_=\"list_item odd\")\n",
    "chars_odd_dict = {}\n",
    "chars_even_dict = {}\n",
    "chars_odd_dict = OrderedDict(chars_odd_dict)\n",
    "chars_even_dict = OrderedDict(chars_even_dict)"
   ]
  },
  {
   "cell_type": "code",
   "execution_count": 65,
   "metadata": {
    "collapsed": true
   },
   "outputs": [],
   "source": [
    "#print(characters_ls_even[0])\n",
    "#Class - number, secondary, description"
   ]
  },
  {
   "cell_type": "code",
   "execution_count": 66,
   "metadata": {},
   "outputs": [
    {
     "data": {
      "text/plain": [
       "<div class=\"list_item odd\">\n",
       "<div class=\"image\"> <a href=\"/character/ch0556868/\"><div class=\"hover-over-image zero-z-index\" data-const=\"ch0556868\">\n",
       "<img alt=\"Image of Tony Stark\" class=\"zero-z-index\" height=\"209\" src=\"https://images-na.ssl-images-amazon.com/images/M/MV5BZmE1YjFkNGQtMjYyNC00NmFjLTkyNjQtNDMxYzc5ZTQ4MGZhXkEyXkFqcGdeQXVyNjczMDY1MzM@._V1._SY209_CR87,0,140,209_.jpg\" width=\"140\"/>\n",
       "</div>\n",
       "</a>\n",
       "</div>\n",
       "<div class=\"number\">1.</div>\n",
       "<div class=\"info\">\n",
       "<b><a href=\"/character/ch0556868/\">Tony Stark</a></b>\n",
       "<div class=\"secondary\"><a href=\"/title/tt0371746/?ref_=rlm\">Iron Man</a> <span class=\"year_type\">(2008)</span>, <a href=\"/name/nm0000375/?ref_=rlm\">Robert Downey Jr.</a></div>\n",
       "</div>\n",
       "<div class=\"description\"><span class=\"bqstart\">“ </span>played by Robert Downey Jr.<br/><br/>* IRON MAN &lt;77:15&gt;<br/>* THE INCREDIBLE HULK &lt;:30&gt;<br/>* IRON MAN 2 &lt;61:15&gt;<br/>* THE AVENGERS &lt;32:15&gt;<br/>* IRON MAN 3 &lt;62:15&gt;<br/>* AVENGERS: AGE OF ULTRON &lt;27:15&gt;<br/>* CAPTAIN AMERICA: CIVIL WAR &lt;37:15&gt;<br/>* SPIDER-MAN: HOMECOMING &lt;8&gt;<br/><br/>306 minutes<span class=\"bqend\"> ”</span> - ninewheels0</div>\n",
       "<div class=\"clear\"> </div>\n",
       "</div>"
      ]
     },
     "execution_count": 66,
     "metadata": {},
     "output_type": "execute_result"
    }
   ],
   "source": [
    "characters_ls_odd[0]"
   ]
  },
  {
   "cell_type": "code",
   "execution_count": 67,
   "metadata": {
    "collapsed": true
   },
   "outputs": [],
   "source": [
    "for character in characters_ls_odd:\n",
    "    chars_odd_dict[character.b.get_text()] = character.find(\"div\", {\"class\": \"description\"}).get_text()\n",
    "for character in characters_ls_even:\n",
    "    chars_even_dict[character.b.get_text()] = character.find(\"div\", {\"class\": \"description\"}).get_text()"
   ]
  },
  {
   "cell_type": "code",
   "execution_count": 68,
   "metadata": {},
   "outputs": [
    {
     "data": {
      "text/plain": [
       "'“\\xa0played by Chris Hemsworth* THOR <43:15>* THE AVENGERS <18>* THOR: THE DARK WORLD <35>* AVENGERS: AGE OF ULTRON <13:15>* DOCTOR STRANGE <:45>* THOR: RAGNAROK <57>167:15 minutes\\xa0” - ninewheels0'"
      ]
     },
     "execution_count": 68,
     "metadata": {},
     "output_type": "execute_result"
    }
   ],
   "source": [
    "characters_ls_odd[1].find(\"div\", {\"class\": \"description\"}).get_text()"
   ]
  },
  {
   "cell_type": "code",
   "execution_count": null,
   "metadata": {
    "collapsed": true
   },
   "outputs": [],
   "source": []
  },
  {
   "cell_type": "code",
   "execution_count": 69,
   "metadata": {
    "collapsed": true
   },
   "outputs": [],
   "source": [
    "#Implementing a regex filter to filter out \\xa0\n",
    "#txt = chars_even_dict['Agent Phil Coulson']\n",
    "def get_info(txt):\n",
    "    txt = re.subn(pattern=r'\\xa0', repl='', string=txt)[0]\n",
    "    txt = re.subn(pattern=r'ninewheels0', repl='', string=txt)[0]\n",
    "    txt = re.subn(pattern=r' - ', repl='', string=txt)[0]\n",
    "    txt = re.subn(pattern=r'[“”]', repl='', string=txt)[0] #“\n",
    "    txt = re.subn(pattern=r'\\d*:?\\d*? minutes', repl='', string=txt)[0]\n",
    "    \n",
    "    #try:\n",
    "    #    txt = txt.split('*')\n",
    "    #    temp = {}\n",
    "    #    temp = OrderedDict(temp)\n",
    "    #    temp['actor'] = txt[0].split('played by ')[1]\n",
    "    #    \n",
    "    #    for i in range(1, len(txt)):\n",
    "    #        movie_and_duration = txt[i].replace(' ', '', 1).replace('>', '').split(' <')\n",
    "    #        temp['{0}'.format(movie_and_duration[0].replace('', ''))] = movie_and_duration[1]\n",
    "    #    return temp\n",
    "    #except:\n",
    "    #    return txt\n",
    "    \n",
    "    txt = txt.split('*')\n",
    "    temp = {}\n",
    "    temp = OrderedDict(temp)\n",
    "    try: \n",
    "        temp['actor'] = txt[0].split('played by ')[1]\n",
    "    except:\n",
    "        temp['actor'] = txt[0].split('played ')[1]\n",
    "    for i in range(1, len(txt)):\n",
    "        movie_and_duration = txt[i].replace(' ', '', 1).replace('>', '').split(' <')\n",
    "        temp['{0}'.format(movie_and_duration[0].replace('', ''))] = movie_and_duration[1]\n",
    "    \n",
    "    return temp\n",
    "        \n",
    "        \n",
    "    \n",
    "    "
   ]
  },
  {
   "cell_type": "markdown",
   "metadata": {
    "collapsed": true
   },
   "source": [
    "Dictionary of the form:\n",
    "    {character_Name: {actor: actor_name, \n",
    "                      movie_1: time_movie_1, \n",
    "                      movie_2: time_movie_2}\n",
    "    \n",
    "    }"
   ]
  },
  {
   "cell_type": "code",
   "execution_count": 70,
   "metadata": {
    "collapsed": true
   },
   "outputs": [],
   "source": [
    "tp = dict(chars_odd_dict)"
   ]
  },
  {
   "cell_type": "code",
   "execution_count": 71,
   "metadata": {
    "collapsed": true
   },
   "outputs": [],
   "source": [
    "for ch in tp.keys():\n",
    "    tp[ch] = get_info(tp[ch])"
   ]
  },
  {
   "cell_type": "code",
   "execution_count": 72,
   "metadata": {
    "collapsed": true
   },
   "outputs": [],
   "source": [
    "for character in chars_odd_dict:\n",
    "    chars_odd_dict[character] = get_info(chars_odd_dict[character])\n",
    "\n",
    "for character in chars_even_dict:\n",
    "    chars_even_dict[character] = get_info(chars_even_dict[character])"
   ]
  },
  {
   "cell_type": "code",
   "execution_count": 73,
   "metadata": {
    "collapsed": true
   },
   "outputs": [],
   "source": [
    "def merge(dict1,*dicts):\n",
    "    for dict2 in dicts:\n",
    "        dict1.update(dict2)\n",
    "    return dict1"
   ]
  },
  {
   "cell_type": "code",
   "execution_count": 74,
   "metadata": {
    "collapsed": true
   },
   "outputs": [],
   "source": [
    "characters = merge(chars_odd_dict, chars_even_dict)"
   ]
  },
  {
   "cell_type": "code",
   "execution_count": 75,
   "metadata": {
    "collapsed": true
   },
   "outputs": [],
   "source": [
    "with open('characters.json', 'w') as file:\n",
    "    json.dump(characters, file)"
   ]
  },
  {
   "cell_type": "code",
   "execution_count": 77,
   "metadata": {},
   "outputs": [
    {
     "name": "stdout",
     "output_type": "stream",
     "text": [
      "<class 'collections.OrderedDict'>\n",
      "<class 'collections.OrderedDict'>\n",
      "<class 'collections.OrderedDict'>\n",
      "<class 'collections.OrderedDict'>\n",
      "<class 'collections.OrderedDict'>\n",
      "<class 'collections.OrderedDict'>\n",
      "<class 'collections.OrderedDict'>\n",
      "<class 'collections.OrderedDict'>\n",
      "<class 'collections.OrderedDict'>\n",
      "<class 'collections.OrderedDict'>\n",
      "<class 'collections.OrderedDict'>\n",
      "<class 'collections.OrderedDict'>\n",
      "<class 'collections.OrderedDict'>\n",
      "<class 'collections.OrderedDict'>\n",
      "<class 'collections.OrderedDict'>\n",
      "<class 'collections.OrderedDict'>\n",
      "<class 'collections.OrderedDict'>\n",
      "<class 'collections.OrderedDict'>\n",
      "<class 'collections.OrderedDict'>\n",
      "<class 'collections.OrderedDict'>\n",
      "<class 'collections.OrderedDict'>\n",
      "<class 'collections.OrderedDict'>\n",
      "<class 'collections.OrderedDict'>\n",
      "<class 'collections.OrderedDict'>\n",
      "<class 'collections.OrderedDict'>\n",
      "<class 'collections.OrderedDict'>\n",
      "<class 'collections.OrderedDict'>\n",
      "<class 'collections.OrderedDict'>\n",
      "<class 'collections.OrderedDict'>\n",
      "<class 'collections.OrderedDict'>\n",
      "<class 'collections.OrderedDict'>\n",
      "<class 'collections.OrderedDict'>\n",
      "<class 'collections.OrderedDict'>\n",
      "<class 'collections.OrderedDict'>\n",
      "<class 'collections.OrderedDict'>\n",
      "<class 'collections.OrderedDict'>\n",
      "<class 'collections.OrderedDict'>\n",
      "<class 'collections.OrderedDict'>\n",
      "<class 'collections.OrderedDict'>\n",
      "<class 'collections.OrderedDict'>\n",
      "<class 'collections.OrderedDict'>\n",
      "<class 'collections.OrderedDict'>\n",
      "<class 'collections.OrderedDict'>\n",
      "<class 'collections.OrderedDict'>\n",
      "<class 'collections.OrderedDict'>\n",
      "<class 'collections.OrderedDict'>\n",
      "<class 'collections.OrderedDict'>\n",
      "<class 'collections.OrderedDict'>\n",
      "<class 'collections.OrderedDict'>\n",
      "<class 'collections.OrderedDict'>\n",
      "<class 'collections.OrderedDict'>\n",
      "<class 'collections.OrderedDict'>\n",
      "<class 'collections.OrderedDict'>\n",
      "<class 'collections.OrderedDict'>\n",
      "<class 'collections.OrderedDict'>\n",
      "<class 'collections.OrderedDict'>\n",
      "<class 'collections.OrderedDict'>\n",
      "<class 'collections.OrderedDict'>\n",
      "<class 'collections.OrderedDict'>\n",
      "<class 'collections.OrderedDict'>\n",
      "<class 'collections.OrderedDict'>\n",
      "<class 'collections.OrderedDict'>\n",
      "<class 'collections.OrderedDict'>\n",
      "<class 'collections.OrderedDict'>\n",
      "<class 'collections.OrderedDict'>\n",
      "<class 'collections.OrderedDict'>\n",
      "<class 'collections.OrderedDict'>\n",
      "<class 'collections.OrderedDict'>\n",
      "<class 'collections.OrderedDict'>\n",
      "<class 'collections.OrderedDict'>\n",
      "<class 'collections.OrderedDict'>\n",
      "<class 'collections.OrderedDict'>\n",
      "<class 'collections.OrderedDict'>\n",
      "<class 'collections.OrderedDict'>\n",
      "<class 'collections.OrderedDict'>\n",
      "<class 'collections.OrderedDict'>\n",
      "<class 'collections.OrderedDict'>\n",
      "<class 'collections.OrderedDict'>\n",
      "<class 'collections.OrderedDict'>\n",
      "<class 'collections.OrderedDict'>\n",
      "<class 'collections.OrderedDict'>\n",
      "<class 'collections.OrderedDict'>\n",
      "<class 'collections.OrderedDict'>\n",
      "<class 'collections.OrderedDict'>\n",
      "<class 'collections.OrderedDict'>\n",
      "<class 'collections.OrderedDict'>\n",
      "<class 'collections.OrderedDict'>\n",
      "<class 'collections.OrderedDict'>\n",
      "<class 'collections.OrderedDict'>\n",
      "<class 'collections.OrderedDict'>\n",
      "<class 'collections.OrderedDict'>\n",
      "<class 'collections.OrderedDict'>\n",
      "<class 'collections.OrderedDict'>\n",
      "<class 'collections.OrderedDict'>\n",
      "<class 'collections.OrderedDict'>\n",
      "<class 'collections.OrderedDict'>\n",
      "<class 'collections.OrderedDict'>\n",
      "<class 'collections.OrderedDict'>\n",
      "<class 'collections.OrderedDict'>\n",
      "<class 'collections.OrderedDict'>\n"
     ]
    }
   ],
   "source": [
    "#Testing \n",
    "for key, value in characters.items():\n",
    "    print(type(characters[key]))\n",
    "    \n",
    "    "
   ]
  },
  {
   "cell_type": "code",
   "execution_count": null,
   "metadata": {
    "collapsed": true
   },
   "outputs": [],
   "source": []
  }
 ],
 "metadata": {
  "kernelspec": {
   "display_name": "Python 3",
   "language": "python",
   "name": "python3"
  },
  "language_info": {
   "codemirror_mode": {
    "name": "ipython",
    "version": 3
   },
   "file_extension": ".py",
   "mimetype": "text/x-python",
   "name": "python",
   "nbconvert_exporter": "python",
   "pygments_lexer": "ipython3",
   "version": "3.4.4"
  }
 },
 "nbformat": 4,
 "nbformat_minor": 2
}
