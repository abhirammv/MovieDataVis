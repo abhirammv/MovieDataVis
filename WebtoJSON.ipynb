{
 "cells": [
  {
   "cell_type": "code",
   "execution_count": 1,
   "metadata": {
    "collapsed": true
   },
   "outputs": [],
   "source": [
    "from bs4 import BeautifulSoup\n",
    "import urllib"
   ]
  },
  {
   "cell_type": "code",
   "execution_count": 2,
   "metadata": {
    "collapsed": true
   },
   "outputs": [],
   "source": [
    "page = urllib.request.urlopen('http://www.imdb.com/list/ls036115103/').read()"
   ]
  },
  {
   "cell_type": "code",
   "execution_count": 3,
   "metadata": {},
   "outputs": [
    {
     "name": "stderr",
     "output_type": "stream",
     "text": [
      "/Library/Frameworks/Python.framework/Versions/3.4/lib/python3.4/site-packages/bs4/__init__.py:181: UserWarning: No parser was explicitly specified, so I'm using the best available HTML parser for this system (\"html5lib\"). This usually isn't a problem, but if you run this code on another system, or in a different virtual environment, it may use a different parser and behave differently.\n",
      "\n",
      "The code that caused this warning is on line 170 of the file /Library/Frameworks/Python.framework/Versions/3.4/lib/python3.4/runpy.py. To get rid of this warning, change code that looks like this:\n",
      "\n",
      " BeautifulSoup(YOUR_MARKUP})\n",
      "\n",
      "to this:\n",
      "\n",
      " BeautifulSoup(YOUR_MARKUP, \"html5lib\")\n",
      "\n",
      "  markup_type=markup_type))\n"
     ]
    },
    {
     "name": "stdout",
     "output_type": "stream",
     "text": [
      "<class 'bs4.BeautifulSoup'>\n"
     ]
    }
   ],
   "source": [
    "soup = BeautifulSoup(page)\n",
    "print(type(soup))"
   ]
  },
  {
   "cell_type": "code",
   "execution_count": 60,
   "metadata": {},
   "outputs": [],
   "source": [
    "characters_ls_even = soup.find_all(\"div\", class_=\"list_item even\")\n",
    "characters_ls_odd = soup.find_all(\"div\", class_=\"list_item odd\")\n",
    "chars_odd_dict = {}\n",
    "chars_even_dict = {}"
   ]
  },
  {
   "cell_type": "code",
   "execution_count": 22,
   "metadata": {},
   "outputs": [],
   "source": [
    "#print(characters_ls_even[0])\n",
    "#Class - number, secondary, description"
   ]
  },
  {
   "cell_type": "code",
   "execution_count": 57,
   "metadata": {},
   "outputs": [
    {
     "data": {
      "text/plain": [
       "<div class=\"list_item odd\">\n",
       "<div class=\"image\"> <a href=\"/character/ch0556868/\"><div class=\"hover-over-image zero-z-index\" data-const=\"ch0556868\">\n",
       "<img alt=\"Image of Tony Stark\" class=\"zero-z-index\" height=\"209\" src=\"https://images-na.ssl-images-amazon.com/images/M/MV5BZmE1YjFkNGQtMjYyNC00NmFjLTkyNjQtNDMxYzc5ZTQ4MGZhXkEyXkFqcGdeQXVyNjczMDY1MzM@._V1._SY209_CR87,0,140,209_.jpg\" width=\"140\"/>\n",
       "</div>\n",
       "</a>\n",
       "</div>\n",
       "<div class=\"number\">1.</div>\n",
       "<div class=\"info\">\n",
       "<b><a href=\"/character/ch0556868/\">Tony Stark</a></b>\n",
       "<div class=\"secondary\"><a href=\"/title/tt0371746/?ref_=rlm\">Iron Man</a> <span class=\"year_type\">(2008)</span>, <a href=\"/name/nm0000375/?ref_=rlm\">Robert Downey Jr.</a></div>\n",
       "</div>\n",
       "<div class=\"description\"><span class=\"bqstart\">“ </span>played by Robert Downey Jr.<br/><br/>* IRON MAN &lt;77:15&gt;<br/>* THE INCREDIBLE HULK &lt;:30&gt;<br/>* IRON MAN 2 &lt;61:15&gt;<br/>* THE AVENGERS &lt;32:15&gt;<br/>* IRON MAN 3 &lt;62:15&gt;<br/>* AVENGERS: AGE OF ULTRON &lt;27:15&gt;<br/>* CAPTAIN AMERICA: CIVIL WAR &lt;37:15&gt;<br/>* SPIDER-MAN: HOMECOMING &lt;8&gt;<br/><br/>306 minutes<span class=\"bqend\"> ”</span> - ninewheels0</div>\n",
       "<div class=\"clear\"> </div>\n",
       "</div>"
      ]
     },
     "execution_count": 57,
     "metadata": {},
     "output_type": "execute_result"
    }
   ],
   "source": [
    "characters_ls_odd[0]"
   ]
  },
  {
   "cell_type": "code",
   "execution_count": null,
   "metadata": {},
   "outputs": [],
   "source": []
  },
  {
   "cell_type": "code",
   "execution_count": 79,
   "metadata": {},
   "outputs": [],
   "source": [
    "for character in characters_ls_odd:\n",
    "    chars_odd_dict[character.b.get_text()] = character.find(\"div\", {\"class\": \"description\"}).get_text()\n",
    "for character in characters_ls_even:\n",
    "    chars_even_dict[character.b.get_text()] = character.find(\"div\", {\"class\": \"description\"}).get_text()"
   ]
  },
  {
   "cell_type": "code",
   "execution_count": 78,
   "metadata": {},
   "outputs": [
    {
     "data": {
      "text/plain": [
       "'“\\xa0played by Chris Hemsworth* THOR <43:15>* THE AVENGERS <18>* THOR: THE DARK WORLD <35>* AVENGERS: AGE OF ULTRON <13:15>* DOCTOR STRANGE <:45>* THOR: RAGNAROK <57>167:15 minutes\\xa0” - ninewheels0'"
      ]
     },
     "execution_count": 78,
     "metadata": {},
     "output_type": "execute_result"
    }
   ],
   "source": [
    "characters_ls_odd[1].find(\"div\", {\"class\": \"description\"}).get_text()"
   ]
  },
  {
   "cell_type": "code",
   "execution_count": 82,
   "metadata": {},
   "outputs": [
    {
     "data": {
      "text/plain": [
       "'“\\xa0played by Robert Downey Jr.* IRON MAN <77:15>* THE INCREDIBLE HULK <:30>* IRON MAN 2 <61:15>* THE AVENGERS <32:15>* IRON MAN 3 <62:15>* AVENGERS: AGE OF ULTRON <27:15>* CAPTAIN AMERICA: CIVIL WAR <37:15>* SPIDER-MAN: HOMECOMING <8>306 minutes\\xa0” - ninewheels0'"
      ]
     },
     "execution_count": 82,
     "metadata": {},
     "output_type": "execute_result"
    }
   ],
   "source": [
    "chars_odd_dict['Tony Stark']"
   ]
  },
  {
   "cell_type": "code",
   "execution_count": 83,
   "metadata": {},
   "outputs": [
    {
     "data": {
      "text/plain": [
       "{'Adrian Toomes': '“\\xa0played by Michael Keaton* SPIDER-MAN: HOMECOMING <19>19 minutes\\xa0” - ninewheels0',\n",
       " 'Ayesha': '“\\xa0played by Elizabeth Debicki* GUARDIANS OF THE GALAXY <3:30>3:30 minutes\\xa0” - ninewheels0',\n",
       " 'Baron Mordo': '“\\xa0played by Chiwetel Ejiofor* DOCTOR STRANGE <17:45>17:45 minutes\\xa0” - ninewheels0',\n",
       " 'Clint Barton': '“\\xa0played by Jeremy Renner* THOR (cameo) <:30>* THE AVENGERS <12:45>* AVENGERS: AGE OF ULTRON <15>* CAPTAIN AMERICA: CIVIL WAR <4:15>32:30 minutes\\xa0” - ninewheels0',\n",
       " \"Col. James 'Rhodey' Rhodes\": '“\\xa0formerly played by Terrence Howard* IRON MAN <8:15>currently played by Don Cheadle* IRON MAN 2 <18:45>* IRON MAN 3 <9:45>* AVENGERS: AGE OF ULTRON <2:30>* CAPTAIN AMERICA: CIVIL WAR <7:15>46:30 minutes\\xa0” - ninewheels0',\n",
       " 'Darcy Lewis': '“\\xa0played by Kat Dennings* THOR <8:30>* THOR: THE DARK WORLD <8:45>17:15 minutes\\xa0” - ninewheels0',\n",
       " 'Dr. Abraham Erskine': '“\\xa0played by Stanley Tucci* CAPTAIN AMERICA: THE FIRST AVENGER <8:30>8:30 minutes\\xa0” - ninewheels0',\n",
       " 'Ego the Living Planet': '“\\xa0played by Kurt Russell, Aaron Schwartz (young Ego facial reference)* GUARDIANS OF THE GALAXY VOL. 2 <17:30>17:30 minutes\\xa0” - ninewheels0',\n",
       " 'Emil Blonsky': '“\\xa0played by Tim Roth* THE INCREDIBLE HULK <18:30>18:30 minutes\\xa0” - ninewheels0',\n",
       " 'Fandral': '“\\xa0played by Josh Dallas* THOR <7>played by Zachary Levi* THOR: THE DARK WORLD <2>* THOR: RAGNAROK <:30>9:30 minutes\\xa0” - ninewheels0',\n",
       " 'Frigga': '“\\xa0played by Rene Russo* THOR <2>* THOR: THE DARK WORLD <4>6 minutes\\xa0” - ninewheels0',\n",
       " 'Hank Pym': '“\\xa0played by Michael Douglas, Dax Griffin (young)* ANT-MAN <24:45>24:45 minutes\\xa0” - ninewheels0',\n",
       " 'Harley Keener': '“\\xa0played by Ty Simpkins* IRON MAN 3 <6:15>6:15 minutes\\xa0” - ninewheels0',\n",
       " 'Heimdall': '“\\xa0played by Idris Elba* THOR <4:15>* THOR: THE DARK WORLD <4:15>* AVENGERS: AGE OF ULTRON <:30>* THOR: RAGNAROK <4:30>13:30 minutes\\xa0” - ninewheels0',\n",
       " 'Hela': '“\\xa0played by Cate Blanchett* THOR: RAGNAROK <12:15>12:15 minutes\\xa0” - ninewheels0',\n",
       " 'Howard Stark': '“\\xa0played by John Slattery* IRON MAN 2 <2>* ANT-MAN <1>* CAPTAIN AMERICA: CIVIL WAR <1:45>played by Dominic Cooper* CAPTAIN AMERICA: THE FIRST AVENGER <4>8:45 minutes\\xa0” - ninewheels0',\n",
       " 'Ivan Vanko': '“\\xa0played Mickey Rourke* IRON MAN 2 <20:45>20:45 minutes\\xa0” - ninewheels0',\n",
       " 'Jasper Sitwell': '“\\xa0played by Maximilliano Hernandez* THOR <1>* THE AVENGERS <:30>* CAPTAIN AMERICA: THE WINTER SOLDIER <4>5:30 minutes\\xa0” - ninewheels0',\n",
       " 'Justin Hammer': '“\\xa0played by Sam Rockwell* IRON MAN 2 <16:30>16:30 minutes\\xa0” - ninewheels0',\n",
       " 'Kaecilius': '“\\xa0played by Mads Mikkelsen* DOCTOR STRANGE <12:45>12:45 minutes\\xa0” - ninewheels0',\n",
       " 'Laura Barton': '“\\xa0played by Linda Cardellini* AVENGERS: AGE OF ULTRON <3:45>3:45 minutes\\xa0” - ninewheels0',\n",
       " 'Loki': '“\\xa0played by Tom Hiddleston* THOR <21:15>* THE AVENGERS <21:30>* THOR: THE DARK WORLD <17:30>* THOR: RAGNAROK <15>75:15 minutes\\xa0” - ninewheels0',\n",
       " 'Malekith the Accursed': '“\\xa0played by Christopher Eccleston* THOR: THE DARK WORLD <8:45>8:45 minutes\\xa0” - ninewheels0',\n",
       " 'Mantis': '“\\xa0played by Pom Klementieff* GUARDIANS OF THE GALAXY VOL. 2 <11>11 minutes\\xa0” - ninewheels0',\n",
       " 'Maria Hill': '“\\xa0played by Cobie Smulders* THE AVENGERS <5:30>* CAPTAIN AMERICA: THE WINTER SOLDIER <3:15>* AVENGERS: AGE OF ULTRON <3>11:45 minutes\\xa0” - ninewheels0',\n",
       " 'May Parker': '“\\xa0played by Marisa Tomei* CAPTAIN AMERICA: CIVIL WAR <1>* SPIDER-MAN: HOMECOMING <4>5 minutes\\xa0” - ninewheels0',\n",
       " 'Natasha Romanoff': '“\\xa0played by Scarlett Johansson* IRON MAN 2 <9:15>* THE AVENGERS <24:45>* CAPTAIN AMERICA: THE WINTER SOLDIER <24:45>* AVENGERS: AGE OF ULTRON <18>* CAPTAIN AMERICA: CIVIL WAR <12>* THOR: RAGNAROK <:15>89 minutes\\xa0” - ninewheels0',\n",
       " 'Nebula': '“\\xa0played by Karen Gillan* GUARDIANS OF THE GALAXY <4:30>* GUARDIANS OF THE GALAXY VOL. 2 <10:30>15 minutes\\xa0” - ninewheels0',\n",
       " 'Ned Leeds': '“\\xa0played by Jacob Batalon* SPIDER-MAN: HOMECOMING <13:45>13:45 minutes\\xa0” - ninewheels0',\n",
       " 'Nick Fury': '“\\xa0played by Samuel L. Jackson* IRON MAN (cameo) <:15>* IRON MAN 2 <5:30>* THOR (cameo) <:45>* CAPTAIN AMERICA: THE FIRST AVENGER <:30>* THE AVENGERS <18:15>* CAPTAIN AMERICA: THE WINTER SOLDIER <15:30>* AVENGERS: AGE OF ULTRON <3>43:45 minutes\\xa0” - ninewheels0',\n",
       " 'Odin': '“\\xa0played by Anthony Hopkins* THOR <11:15>* THOR: THE DARK WORLD <9>* THOR: RAGNAROK <3:30>23:45 minutes\\xa0” - ninewheels0',\n",
       " 'Paxton': '“\\xa0played by Bobby Cannavale* ANT-MAN <4:30>4:30 minutes\\xa0” - ninewheels0',\n",
       " 'Peter Quill': '“\\xa0played by Chris Pratt* GUARDIANS OF THE GALAXY <46:45>* GUARDIANS OF THE GALAXY VOL. 2 <35:45>82:30 minutes\\xa0” - ninewheels0',\n",
       " 'Raza': '“\\xa0played by Faran Tahir* IRON MAN <6>6 minutes\\xa0” - ninewheels0',\n",
       " 'Rocket Raccoon': '“\\xa0played by Bradley Cooper (voice), Sean Gunn (on-set reference)* GUARDIANS OF THE GALAXY <19:30>* GUARDIANS OF THE GALAXY VOL. 2 <19:45>39:15 minutes\\xa0” - ninewheels0',\n",
       " 'Ronan the Accuser': '“\\xa0played by Lee Pace* GUARDIANS OF THE GALAXY <7:45>7:45 minutes\\xa0” - ninewheels0',\n",
       " 'Sam Wilson': '“\\xa0played by Anthony Mackie* CAPTAIN AMERICA: THE WINTER SOLDIER <14:15>* AVENGERS: AGE OF ULTRON <:45>* ANT-MAN <2:45>* CAPTAIN AMERICA: CIVIL WAR <10:15>28 minutes\\xa0” - ninewheels0',\n",
       " 'Scott Lang': '“\\xa0played by Paul Rudd* ANT-MAN <50:30>* CAPTAIN AMERICA: CIVIL WAR <5:30>56 minutes\\xa0” - ninewheels0',\n",
       " 'Sif': '“\\xa0played by Jaimie Alexander* THOR <8:15>* THOR: THE DARK WORLD <3:15>11:30 minutes\\xa0” - ninewheels0',\n",
       " 'Skurge': '“\\xa0played by Karl Urban* THOR: RAGNAROK <6:45>6:45 minutes\\xa0” - ninewheels0',\n",
       " 'Taserface': '“\\xa0played by Chris Sullivan* GUARDIANS OF THE GALAXY VOL. 2 <4:15>4:15 minutes\\xa0” - ninewheels0',\n",
       " 'Thor': '“\\xa0played by Chris Hemsworth* THOR <43:15>* THE AVENGERS <18>* THOR: THE DARK WORLD <35>* AVENGERS: AGE OF ULTRON <13:15>* DOCTOR STRANGE <:45>* THOR: RAGNAROK <57>167:15 minutes\\xa0” - ninewheels0',\n",
       " 'Tinkerer': '“\\xa0played by Michael Chernus* SPIDER-MAN: HOMECOMING <3:45>3:45 minutes\\xa0” - ninewheels0',\n",
       " 'Tony Stark': '“\\xa0played by Robert Downey Jr.* IRON MAN <77:15>* THE INCREDIBLE HULK <:30>* IRON MAN 2 <61:15>* THE AVENGERS <32:15>* IRON MAN 3 <62:15>* AVENGERS: AGE OF ULTRON <27:15>* CAPTAIN AMERICA: CIVIL WAR <37:15>* SPIDER-MAN: HOMECOMING <8>306 minutes\\xa0” - ninewheels0',\n",
       " 'Trevor Slattery': '“\\xa0played by Ben Kingsley* IRON MAN 3 <7:30>7:30 minutes\\xa0” - ninewheels0',\n",
       " 'Valkyrie': '“\\xa0played by Tessa Thompson* THOR: RAGNAROK <15:30>15:30 minutes\\xa0” - ninewheels0',\n",
       " 'Volstagg': '“\\xa0played by Ray Stevenson* THOR <7>* THOR: THE DARK WORLD <2:45>* THOR: RAGNAROK <:30>10:15 minutes\\xa0” - ninewheels0',\n",
       " 'Wong': '“\\xa0played by Benedict Wong* DOCTOR STRANGE <7>7 minutes\\xa0” - ninewheels0',\n",
       " 'Yondu Udonta': '“\\xa0played by Michael Rooker* GUARDIANS OF THE GALAXY <6>* GUARDIANS OF THE GALAXY VOL. 2 <16:15>22:15 minutes\\xa0” - ninewheels0',\n",
       " 'Zemo': '“\\xa0played by Daniel Brühl* CAPTAIN AMERICA: CIVIL WAR <10:30>10:30 minutes\\xa0” - ninewheels0'}"
      ]
     },
     "execution_count": 83,
     "metadata": {},
     "output_type": "execute_result"
    }
   ],
   "source": [
    "chars_odd_dict"
   ]
  },
  {
   "cell_type": "code",
   "execution_count": null,
   "metadata": {
    "collapsed": true
   },
   "outputs": [],
   "source": []
  }
 ],
 "metadata": {
  "language_info": {
   "codemirror_mode": {
    "name": "ipython",
    "version": 3
   },
   "file_extension": ".py",
   "mimetype": "text/x-python",
   "name": "python",
   "nbconvert_exporter": "python",
   "pygments_lexer": "ipython3",
   "version": "3.4.4"
  }
 },
 "nbformat": 4,
 "nbformat_minor": 2
}
